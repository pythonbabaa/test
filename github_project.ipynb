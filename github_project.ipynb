{
  "nbformat": 4,
  "nbformat_minor": 0,
  "metadata": {
    "colab": {
      "provenance": []
    },
    "kernelspec": {
      "name": "python3",
      "display_name": "Python 3"
    },
    "language_info": {
      "name": "python"
    }
  },
  "cells": [
    {
      "cell_type": "code",
      "execution_count": 1,
      "metadata": {
        "colab": {
          "base_uri": "https://localhost:8080/"
        },
        "id": "mP4osWNVUfp2",
        "outputId": "b4993d02-e37b-4911-bf11-c66ebb02cada"
      },
      "outputs": [
        {
          "output_type": "stream",
          "name": "stdout",
          "text": [
            "my github project\n",
            "upload it to git hub\n",
            "4\n"
          ]
        }
      ],
      "source": [
        "print('my github project')\n",
        "print('upload it to git hub')\n",
        "print(2+2)"
      ]
    },
    {
      "cell_type": "code",
      "source": [],
      "metadata": {
        "id": "WuONGpGGUlMm"
      },
      "execution_count": null,
      "outputs": []
    }
  ]
}