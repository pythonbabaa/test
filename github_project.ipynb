{
  "nbformat": 4,
  "nbformat_minor": 0,
  "metadata": {
    "colab": {
      "provenance": []
    },
    "kernelspec": {
      "name": "python3",
      "display_name": "Python 3"
    },
    "language_info": {
      "name": "python"
    }
  },
  "cells": [
    {
      "cell_type": "code",
      "execution_count": 1,
      "metadata": {
        "colab": {
          "base_uri": "https://localhost:8080/"
        },
        "id": "mP4osWNVUfp2",
        "outputId": "b4993d02-e37b-4911-bf11-c66ebb02cada"
      },
      "outputs": [
        {
          "output_type": "stream",
          "name": "stdout",
          "text": [
            "my github project\n",
            "upload it to git hub\n",
            "4\n"
          ]
        }
      ],
      "source": [
        "print('my github project')\n",
        "print('upload it to git hub')\n",
        "print(2+2)"
      ]
    },
    {
      "cell_type": "code",
      "source": [
        "print('2nd time changes')"
      ],
      "metadata": {
        "colab": {
          "base_uri": "https://localhost:8080/"
        },
        "id": "WuONGpGGUlMm",
        "outputId": "5f47d75c-6c4e-4436-abc5-1e426a818986"
      },
      "execution_count": 2,
      "outputs": [
        {
          "output_type": "stream",
          "name": "stdout",
          "text": [
            "2nd time changes\n"
          ]
        }
      ]
    },
    {
      "cell_type": "code",
      "source": [],
      "metadata": {
        "id": "Vpa0z2Q-Za80"
      },
      "execution_count": null,
      "outputs": []
    }
  ]
}